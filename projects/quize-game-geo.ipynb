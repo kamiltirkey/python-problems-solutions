{
 "cells": [
  {
   "cell_type": "code",
   "execution_count": null,
   "metadata": {},
   "outputs": [],
   "source": [
    "'''Problem Statement\n",
    "\n",
    "Quiz Game\n",
    "\n",
    "You are provided with a JSON file (geo.json) containing a set of quizzes, each with multiple questions and choices. Your task is to create a Python program that allows users to interactively select and answer quiz questions. The program should:\n",
    "\n",
    "Welcome Message: Display a welcome message and prompt the user to select a question by entering the question ID.\n",
    "Question Selection: Allow the user to input a question ID and display the corresponding question and its choices.\n",
    "Answer Validation: Allow the user to input their answer and validate it against the correct answer.\n",
    "Feedback: Provide feedback on whether the user's answer is correct or incorrect, and display the correct answer if the user's answer is incorrect.\n",
    "Looping: Continue to prompt the user for new questions until they choose to exit the game.\n",
    "Solution\n",
    "Below is the solution for the quiz game:\n",
    "\n",
    "'''"
   ]
  },
  {
   "cell_type": "code",
   "execution_count": 1,
   "metadata": {},
   "outputs": [
    {
     "name": "stdout",
     "output_type": "stream",
     "text": [
      "{'quizzes': [{'quizTitle': 'Country Capitals', 'questions': [{'id': 1, 'question': 'What is the capital of France?', 'choices': {'Paris': True, 'London': False, 'Berlin': False, 'Madrid': False}}, {'id': 2, 'question': 'What is the capital of Japan?', 'choices': {'Beijing': False, 'Seoul': False, 'Tokyo': True, 'Bangkok': False}}, {'id': 3, 'question': 'What is the capital of Canada?', 'choices': {'Toronto': False, 'Vancouver': False, 'Ottawa': True, 'Montreal': False}}]}, {'quizTitle': 'Continents and Countries', 'questions': [{'id': 4, 'question': 'Which continent is Brazil located in?', 'choices': {'Africa': False, 'Asia': False, 'South America': True, 'Europe': False}}, {'id': 5, 'question': 'Which continent is Egypt located in?', 'choices': {'Europe': False, 'Asia': False, 'Africa': True, 'Australia': False}}, {'id': 6, 'question': 'Which continent is Australia located in?', 'choices': {'Asia': False, 'South America': False, 'Australia': True, 'Africa': False}}]}, {'quizTitle': 'Rivers and Mountains', 'questions': [{'id': 7, 'question': 'Which is the longest river in the world?', 'choices': {'Amazon': False, 'Nile': True, 'Yangtze': False, 'Mississippi': False}}, {'id': 8, 'question': 'Which is the highest mountain in the world?', 'choices': {'K2': False, 'Kangchenjunga': False, 'Lhotse': False, 'Mount Everest': True}}, {'id': 9, 'question': 'Which river flows through Paris?', 'choices': {'Thames': False, 'Seine': True, 'Danube': False, 'Rhone': False}}]}]}\n"
     ]
    }
   ],
   "source": [
    "import json\n",
    "\n",
    "with open (\"geo.json\") as file: #open json file\n",
    "    quize_data = json.load(file) #load json file\n",
    "    print(quize_data) #print json file\n",
    "\n"
   ]
  },
  {
   "cell_type": "code",
   "execution_count": null,
   "metadata": {},
   "outputs": [
    {
     "name": "stdout",
     "output_type": "stream",
     "text": [
      "Welcome to the Quizz!\n",
      "Please select a question by entering the question ID.\n",
      "1. What is the capital of France?\n",
      "Paris\n",
      "London\n",
      "Berlin\n",
      "Madrid\n",
      " The answer is correct: Paris\n",
      "5. Which continent is Egypt located in?\n",
      "Europe\n",
      "Asia\n",
      "Africa\n",
      "Australia\n",
      "Incorrect. The correct answer is: Africa\n",
      "Thank you for playing.!\n"
     ]
    }
   ],
   "source": [
    "# Welcome message\n",
    "print(\"Welcome to the Quizz!\")\n",
    "print(\"Please select a question by entering the question ID.\")\n",
    "\n",
    "\n",
    "#loop to continue the game\n",
    "\n",
    "while True: \n",
    "    #input question id\n",
    "    question_id =  int(input(\"Enter the question id: \")) \n",
    "\n",
    "    #initialize correct answer, none means no answer then correct answer is not found. \n",
    "    correct_answer = None \n",
    "\n",
    "    #initialize question found, false means question not found. then it will print question not found.\n",
    "    question_found = False \n",
    "\n",
    "\n",
    "    #loop to find question\n",
    "    for quize in quize_data[\"quizzes\"]:  \n",
    "        \n",
    "        #loop to find question id and question text   \n",
    "        for question in quize[\"questions\"]: \n",
    "            \n",
    "            #if question id is equal to input question id then print question id and question text\n",
    "            if question[\"id\"] == question_id: \n",
    "\n",
    "               #if question found then question found is true and it will print the question id and question text\n",
    "               question_found = True \n",
    "\n",
    "               # Print question ID and text on the same line\n",
    "               #print(question['id'],\".\", question['question'])\n",
    "               print(f\"{question['id']}. {question['question']}\")  \n",
    "\n",
    "               # Loop through the choices and print them\n",
    "               for choice, is_correct in question[\"choices\"].items():\n",
    "                print(choice) \n",
    "\n",
    "               #if correct answer is found then print correct answer\n",
    "                if is_correct:\n",
    "                   correct_answer = choice #if correct answer is found then correct answer is equal to choice\n",
    "\n",
    "\n",
    "    #if question found then it will ask for answer\n",
    "    if question_found: \n",
    "       \n",
    "       #input answer and convert it to lower case\n",
    "       user_answer = input(\"Enter your answer: \").lower() \n",
    "\n",
    "       #if user answer is equal to correct answer then print the answer is correct and # Print the correct answer\n",
    "       if user_answer == correct_answer.lower(): \n",
    "          print(\" The answer is correct:\", correct_answer)  \n",
    "\n",
    "          #if user answer is not equal to correct answer then print the answer is incorrect and print the correct answer\n",
    "       else:\n",
    "          print(\"Incorrect. The correct answer is:\", correct_answer) \n",
    "\n",
    "\n",
    "   #if question not found then it will print question not found\n",
    "    else: \n",
    "      print(\"Question not found\")\n",
    "\n",
    "\n",
    "    #input to continue the game or not\n",
    "    continue_choice = input(\"Do you want to continue? (yes/no): \") \n",
    "\n",
    "\n",
    "    #if input is not equal to yes then it will print thank you for playing and break the loop\n",
    "    if continue_choice != 'yes': \n",
    "       print(\"Thank you for playing.!\")\n",
    "\n",
    "      # Exit the loop\n",
    "       break        "
   ]
  }
 ],
 "metadata": {
  "kernelspec": {
   "display_name": "Python 3",
   "language": "python",
   "name": "python3"
  },
  "language_info": {
   "codemirror_mode": {
    "name": "ipython",
    "version": 3
   },
   "file_extension": ".py",
   "mimetype": "text/x-python",
   "name": "python",
   "nbconvert_exporter": "python",
   "pygments_lexer": "ipython3",
   "version": "3.11.4"
  }
 },
 "nbformat": 4,
 "nbformat_minor": 2
}
