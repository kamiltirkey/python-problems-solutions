{
 "cells": [
  {
   "cell_type": "code",
   "execution_count": 4,
   "metadata": {},
   "outputs": [
    {
     "name": "stderr",
     "output_type": "stream",
     "text": [
      "C:\\Users\\y947\\AppData\\Roaming\\Python\\Python311\\site-packages\\urllib3\\connectionpool.py:1099: InsecureRequestWarning: Unverified HTTPS request is being made to host 'restcountries.com'. Adding certificate verification is strongly advised. See: https://urllib3.readthedocs.io/en/latest/advanced-usage.html#tls-warnings\n",
      "  warnings.warn(\n"
     ]
    },
    {
     "name": "stdout",
     "output_type": "stream",
     "text": [
      "Country:  India\n",
      "Capital:  New Delhi\n"
     ]
    }
   ],
   "source": [
    "import requests\n",
    "\n",
    "url = \"https://restcountries.com/v3.1/all\"\n",
    "\n",
    "response = requests.get(url, verify=False)\n",
    "data = response.json()  # This will return a list of dictionaries\n",
    "\n",
    "country_input = input(\"Enter the country name: \")  # User input\n",
    "\n",
    "for country in data:\n",
    "    country_name = country['name']['common']\n",
    "    if country_name.lower() == country_input.lower():\n",
    "        print(\"Country: \", country_name)\n",
    "        print(\"Capital: \", country['capital'][0])\n",
    "        break\n",
    "else:\n",
    "    print(\"Country not found.\")"
   ]
  },
  {
   "cell_type": "code",
   "execution_count": null,
   "metadata": {},
   "outputs": [],
   "source": []
  }
 ],
 "metadata": {
  "kernelspec": {
   "display_name": "Python 3",
   "language": "python",
   "name": "python3"
  },
  "language_info": {
   "codemirror_mode": {
    "name": "ipython",
    "version": 3
   },
   "file_extension": ".py",
   "mimetype": "text/x-python",
   "name": "python",
   "nbconvert_exporter": "python",
   "pygments_lexer": "ipython3",
   "version": "3.11.4"
  }
 },
 "nbformat": 4,
 "nbformat_minor": 2
}
