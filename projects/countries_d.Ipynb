{
 "cells": [
  {
   "cell_type": "code",
   "execution_count": 13,
   "metadata": {},
   "outputs": [
    {
     "name": "stdout",
     "output_type": "stream",
     "text": [
      "Country:  Japan\n",
      "Capital:  Tokyo\n"
     ]
    }
   ],
   "source": [
    "import requests # Importing the requests module\n",
    "import urllib3 # Importing the urllib3 module for disabling the warnings. \n",
    "import certifi  # Importing the certifi module for the SSL certificate.  \n",
    "\n",
    "from requests.adapters import HTTPAdapter # Importing the HTTPAdapter module from the requests.adapters module for the retrying the request. Also, it is used to set the maximum number of retries.\n",
    "from urllib3.util.ssl_ import create_urllib3_context # Importing the create_urllib3_context module from the urllib3.util.ssl_ module for creating the urllib3 context. for the SSL certificate.\n",
    "from urllib3.util.retry import Retry # Importing the Retry module from the urllib3.util.retry module for the retrying the request.\n",
    "\n",
    "urllib3.disable_warnings(urllib3.exceptions.InsecureRequestWarning)\n",
    "\n",
    "url = \"https://restcountries.com/v3.1/all\"\n",
    "\n",
    "response = requests.get(url, verify=False)\n",
    "data = response.json()  # This will return a list of dictionaries\n",
    "\n",
    "country_input = input(\"Enter the country name: \")  # User input\n",
    "\n",
    "for country in data:\n",
    "    country_name = country['name']['common']\n",
    "    if country_name.lower() == country_input.lower():\n",
    "        print(\"Country: \", country_name)\n",
    "        print(\"Capital: \", country['capital'][0])\n",
    "        break\n",
    "else:\n",
    "    print(\"Country not found.\")"
   ]
  },
  {
   "cell_type": "code",
   "execution_count": null,
   "metadata": {},
   "outputs": [],
   "source": []
  }
 ],
 "metadata": {
  "kernelspec": {
   "display_name": "Python 3",
   "language": "python",
   "name": "python3"
  },
  "language_info": {
   "codemirror_mode": {
    "name": "ipython",
    "version": 3
   },
   "file_extension": ".py",
   "mimetype": "text/x-python",
   "name": "python",
   "nbconvert_exporter": "python",
   "pygments_lexer": "ipython3",
   "version": "3.11.4"
  }
 },
 "nbformat": 4,
 "nbformat_minor": 2
}
