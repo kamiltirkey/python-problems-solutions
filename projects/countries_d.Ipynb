{
 "cells": [
  {
   "cell_type": "code",
   "execution_count": null,
   "metadata": {},
   "outputs": [],
   "source": [
    "''' \n",
    "# PROBLEM STATEMENT:\n",
    "# The code fetches data from the REST Countries API and displays the capital of a specified country.\n",
    "# However, it encounters an InsecureRequestWarning due to SSL certificate verification being disabled.\n",
    "# This warning indicates that the HTTPS request is being made without verifying the SSL certificate, \n",
    "  which can be a security risk.\n",
    "# The goal is to suppress this warning while still allowing the code to function correctly \n",
    "  for development and testing purposes.\n",
    "\n",
    "# Solution:\n",
    "# To resolve this issue, we can suppress the InsecureRequestWarning while still disabling SSL verification.\n",
    "# This approach is useful for development and testing purposes \n",
    "  but should not be used in production environments due to security risks.\n",
    "# The following code demonstrates how to suppress the InsecureRequestWarning using the warnings module in Python.'\n",
    "\n",
    "'''\n"
   ]
  },
  {
   "cell_type": "code",
   "execution_count": null,
   "metadata": {},
   "outputs": [
    {
     "name": "stdout",
     "output_type": "stream",
     "text": [
      "Country:  India\n",
      "Capital:  New Delhi\n"
     ]
    }
   ],
   "source": [
    "import requests # Importing the requests module\n",
    "import urllib3 # Importing the urllib3 module for disabling the warnings. \n",
    "import certifi  # Importing the certifi module for the SSL certificate.  \n",
    "\n",
    "# Suppress only the single InsecureRequestWarning from urllib3\n",
    "urllib3.disable_warnings(urllib3.exceptions.InsecureRequestWarning)\n",
    "\n",
    "url = \"https://restcountries.com/v3.1/all\"\n",
    "\n",
    "response = requests.get(url, verify=False) # Disabling SSL verification\n",
    "data = response.json()  # This will return a list of dictionaries\n",
    "\n",
    "country_input = input(\"Enter the country name: \")  # User input\n",
    "\n",
    "\n",
    "# Looping through the list of dictionaries to find the country name and capital\n",
    "for country in data: \n",
    "\n",
    "    # Extracting the country name from the dictionary\n",
    "    country_name = country['name']['common'] \n",
    "\n",
    "     # Checking if the country name matches the user input\n",
    "    if country_name.lower() == country_input.lower(): \n",
    "        \n",
    "        # Displaying the country name  \n",
    "        print(\"Country: \", country_name) \n",
    "\n",
    "        # Displaying the capital of the country\n",
    "        print(\"Capital: \", country['capital'][0])\n",
    "\n",
    "        # If the country is found, exit the loop using the break statement\n",
    "        break \n",
    "else:\n",
    "    print(\"Country not found.\") # If the country is not found in the list"
   ]
  },
  {
   "cell_type": "code",
   "execution_count": null,
   "metadata": {},
   "outputs": [],
   "source": []
  }
 ],
 "metadata": {
  "kernelspec": {
   "display_name": "Python 3",
   "language": "python",
   "name": "python3"
  },
  "language_info": {
   "codemirror_mode": {
    "name": "ipython",
    "version": 3
   },
   "file_extension": ".py",
   "mimetype": "text/x-python",
   "name": "python",
   "nbconvert_exporter": "python",
   "pygments_lexer": "ipython3",
   "version": "3.11.4"
  }
 },
 "nbformat": 4,
 "nbformat_minor": 2
}
