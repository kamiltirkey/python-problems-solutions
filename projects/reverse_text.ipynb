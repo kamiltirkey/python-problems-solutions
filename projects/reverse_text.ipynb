{
 "cells": [
  {
   "cell_type": "code",
   "execution_count": null,
   "metadata": {},
   "outputs": [
    {
     "name": "stdout",
     "output_type": "stream",
     "text": [
      "Forests are vital ecosystems that provide a habitat for countless species of flora and fauna. They play a crucial role in maintaining the earth's climate by absorbing carbon dioxide and releasing oxygen. Forests also support the livelihoods of millions of people around the world. They are sources of food, medicine, and raw materials.\n",
      "Forests are classified into various types based on their geographical location and the climate in which they are found. Tropical rainforests, for instance, are located near the equator and are known for their high biodiversity and dense canopies. Temperate forests, found in regions with moderate climates, experience distinct seasons and support a diverse range of plant and animal species.\n",
      "In addition to their ecological importance, forests offer numerous recreational opportunities for people. Hiking, camping, and bird watching are popular activities that allow individuals to connect with nature. However, forests are under threat from deforestation, climate change, and human activities. It is essential to implement sustainable management practices to preserve these invaluable ecosystems for future generations.\n",
      "\n"
     ]
    }
   ],
   "source": [
    "# Open a file and read its contents and print to  view the contents of the file\n",
    "\n",
    "with open('example.txt' )as file:\n",
    "    text = file.read()\n",
    "    print(text)"
   ]
  },
  {
   "cell_type": "code",
   "execution_count": null,
   "metadata": {},
   "outputs": [],
   "source": [
    "#texts reversed\n",
    "\n",
    "words = text.split()\n",
    "reversed_words = []\n",
    "for word in words:\n",
    "    word = word[::-1]\n",
    "    reversed_words.append(word)"
   ]
  },
  {
   "cell_type": "code",
   "execution_count": null,
   "metadata": {},
   "outputs": [
    {
     "name": "stdout",
     "output_type": "stream",
     "text": [
      "stseroF era lativ smetsysoce taht edivorp a tatibah rof sseltnuoc seiceps fo arolf dna .anuaf yehT yalp a laicurc elor ni gniniatniam eht s'htrae etamilc yb gnibrosba nobrac edixoid dna gnisaeler .negyxo stseroF osla troppus eht sdoohilevil fo snoillim fo elpoep dnuora eht .dlrow yehT era secruos fo ,doof ,enicidem dna war .slairetam stseroF era deifissalc otni suoirav sepyt desab no rieht lacihpargoeg noitacol dna eht etamilc ni hcihw yeht era .dnuof laciporT ,stserofniar rof ,ecnatsni era detacol raen eht rotauqe dna era nwonk rof rieht hgih ytisrevidoib dna esned .seiponac etarepmeT ,stserof dnuof ni snoiger htiw etaredom ,setamilc ecneirepxe tcnitsid snosaes dna troppus a esrevid egnar fo tnalp dna lamina .seiceps nI noitidda ot rieht lacigoloce ,ecnatropmi stserof reffo suoremun lanoitaercer seitinutroppo rof .elpoep ,gnikiH ,gnipmac dna drib gnihctaw era ralupop seitivitca taht wolla slaudividni ot tcennoc htiw .erutan ,revewoH stserof era rednu taerht morf ,noitatserofed etamilc ,egnahc dna namuh .seitivitca tI si laitnesse ot tnemelpmi elbaniatsus tnemeganam secitcarp ot evreserp eseht elbaulavni smetsysoce rof erutuf .snoitareneg\n"
     ]
    }
   ],
   "source": [
    "#reversed text and print it\n",
    "\n",
    "reversed_text = ' '.join(reversed_words)\n",
    "print(reversed_text)"
   ]
  },
  {
   "cell_type": "code",
   "execution_count": null,
   "metadata": {},
   "outputs": [],
   "source": [
    "#write the reversed text to a new file as example_reversed.txt\n",
    "\n",
    "with open('example_reversed.txt', 'w') as file:\n",
    "    file.write(reversed_text)"
   ]
  },
  {
   "cell_type": "code",
   "execution_count": null,
   "metadata": {},
   "outputs": [],
   "source": []
  },
  {
   "cell_type": "code",
   "execution_count": null,
   "metadata": {},
   "outputs": [],
   "source": []
  }
 ],
 "metadata": {
  "kernelspec": {
   "display_name": "Python 3",
   "language": "python",
   "name": "python3"
  },
  "language_info": {
   "codemirror_mode": {
    "name": "ipython",
    "version": 3
   },
   "file_extension": ".py",
   "mimetype": "text/x-python",
   "name": "python",
   "nbconvert_exporter": "python",
   "pygments_lexer": "ipython3",
   "version": "3.11.4"
  }
 },
 "nbformat": 4,
 "nbformat_minor": 2
}
