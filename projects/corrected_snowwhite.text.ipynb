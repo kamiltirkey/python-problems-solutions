{
 "cells": [
  {
   "cell_type": "code",
   "execution_count": null,
   "metadata": {},
   "outputs": [
    {
     "name": "stdout",
     "output_type": "stream",
     "text": [
      "['once', 'upon', 'a', 'time,', 'in', 'a', 'faraway', 'kingdom,', 'there', 'lived', 'a', 'beautiful', 'young', 'princess', 'named', 'snow', 'white.', 'she', 'had', 'skin', 'as', 'white', 'as', 'snow,', 'lips', 'as', 'red', 'as', 'roses,', 'and', 'hair', 'as', 'black', 'as', 'ebony.', 'snow', \"white's\", 'wicked', 'stepmother,', 'the', 'queen,', 'was', 'jealous', 'of', 'her', 'beauty.', 'she', 'ordered', 'a', 'huntsman', 'to', 'take', 'snow', 'white', 'into', 'the', 'forest', 'and', 'kill', 'her.', 'however,', 'the', 'huntsman', \"couldn't\", 'bring', 'himself', 'to', 'do', 'it', 'and', 'let', 'snow', 'white', 'go.', 'lost', 'and', 'frightened,', 'snow', 'white', 'stumbled', 'upon', 'a', 'small', 'cottage', 'in', 'the', 'forest.', 'it', 'belonged', 'to', 'seven', 'dwarfs', 'who', 'kindly', 'took', 'her', 'in.', 'meanwhile,', 'the', 'queen,', 'disguised', 'as', 'an', 'old', 'woman,', 'tricked', 'snow', 'white', 'into', 'eating', 'a', 'poisoned', 'apple.', 'snow', 'white', 'fell', 'into', 'a', 'deep', 'sleep.', 'the', 'dwarfs', 'placed', 'her', 'in', 'a', 'glass', 'coffin.', 'one', 'day,', 'a', 'prince', 'passing', 'by', 'saw', 'snow', 'white', 'and', 'kissed', 'her,', 'breaking', 'the', 'spell.', 'snow', 'white', 'woke', 'up,', 'and', 'they', 'lived', 'happily', 'ever', 'after,', 'while', 'the', 'queen', 'met', 'her', 'demise']\n"
     ]
    }
   ],
   "source": [
    "#open the file snowwhite.txt and read it into a string\n",
    "\n",
    "with open ('snowwhite.txt') as file:\n",
    "    text = file.read()\n",
    "    "
   ]
  },
  {
   "cell_type": "code",
   "execution_count": null,
   "metadata": {},
   "outputs": [
    {
     "name": "stdout",
     "output_type": "stream",
     "text": [
      "['once upon a time', ' in a faraway kingdom', ' there lived a beautiful young princess named snow white. she had skin as white as snow', ' lips as red as roses', \" and hair as black as ebony. snow white's wicked stepmother\", ' the queen', ' was jealous of her beauty. she ordered a huntsman to take snow white into the forest and kill her. however', \" the huntsman couldn't bring himself to do it and let snow white go. lost and frightened\", ' snow white stumbled upon a small cottage in the forest. it belonged to seven dwarfs who kindly took her in. meanwhile', ' the queen', ' disguised as an old woman', ' tricked snow white into eating a poisoned apple. snow white fell into a deep sleep. the dwarfs placed her in a glass coffin. one day', ' a prince passing by saw snow white and kissed her', ' breaking the spell. snow white woke up', ' and they lived happily ever after', ' while the queen met her demise']\n"
     ]
    }
   ],
   "source": [
    "#split the string into a list of sentences\n",
    "\n",
    "sentences = text.split(',')\n",
    "print(sentences)\n"
   ]
  },
  {
   "cell_type": "code",
   "execution_count": null,
   "metadata": {},
   "outputs": [],
   "source": [
    "#capitalize the first letter of each sentence\n",
    "\n",
    "correct_sentences = []\n",
    "for sentence in sentences:\n",
    "    sentence = sentence.capitalize()\n",
    "    correct_sentences.append(sentence)"
   ]
  },
  {
   "cell_type": "code",
   "execution_count": null,
   "metadata": {},
   "outputs": [
    {
     "name": "stdout",
     "output_type": "stream",
     "text": [
      "Once upon a time,  in a faraway kingdom,  there lived a beautiful young princess named snow white. she had skin as white as snow,  lips as red as roses,  and hair as black as ebony. snow white's wicked stepmother,  the queen,  was jealous of her beauty. she ordered a huntsman to take snow white into the forest and kill her. however,  the huntsman couldn't bring himself to do it and let snow white go. lost and frightened,  snow white stumbled upon a small cottage in the forest. it belonged to seven dwarfs who kindly took her in. meanwhile,  the queen,  disguised as an old woman,  tricked snow white into eating a poisoned apple. snow white fell into a deep sleep. the dwarfs placed her in a glass coffin. one day,  a prince passing by saw snow white and kissed her,  breaking the spell. snow white woke up,  and they lived happily ever after,  while the queen met her demise\n"
     ]
    }
   ],
   "source": [
    "#join the sentences into a single string with commas between them and print it\n",
    "\n",
    "correct_text = ', '.join(correct_sentences)\n",
    "print(correct_text)"
   ]
  },
  {
   "cell_type": "code",
   "execution_count": null,
   "metadata": {},
   "outputs": [],
   "source": [
    "#write the corrected text to a new file called snowwhite_corrected.txt\n",
    "\n",
    "with open('snowwhite_corrected.txt', 'w') as file:\n",
    "    file.write(correct_text)\n"
   ]
  },
  {
   "cell_type": "code",
   "execution_count": null,
   "metadata": {},
   "outputs": [],
   "source": []
  }
 ],
 "metadata": {
  "kernelspec": {
   "display_name": "Python 3",
   "language": "python",
   "name": "python3"
  },
  "language_info": {
   "codemirror_mode": {
    "name": "ipython",
    "version": 3
   },
   "file_extension": ".py",
   "mimetype": "text/x-python",
   "name": "python",
   "nbconvert_exporter": "python",
   "pygments_lexer": "ipython3",
   "version": "3.11.4"
  }
 },
 "nbformat": 4,
 "nbformat_minor": 2
}
