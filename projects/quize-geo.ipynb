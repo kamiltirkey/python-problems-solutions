{
 "cells": [
  {
   "cell_type": "code",
   "execution_count": null,
   "metadata": {},
   "outputs": [],
   "source": [
    "'''Problem Statement\n",
    "\n",
    "Quiz Game\n",
    "\n",
    "You are provided with a JSON file (geo.json) containing a set of quizzes, each with multiple questions and choices. Your task is to create a Python program that allows users to interactively select and answer quiz questions. The program should:\n",
    "\n",
    "Welcome Message: Display a welcome message and prompt the user to select a question by entering the question ID.\n",
    "Question Selection: Allow the user to input a question ID and display the corresponding question and its choices.\n",
    "Answer Validation: Allow the user to input their answer and validate it against the correct answer.\n",
    "Feedback: Provide feedback on whether the user's answer is correct or incorrect, and display the correct answer if the user's answer is incorrect.\n",
    "Looping: Continue to prompt the user for new questions until they choose to exit the game.\n",
    "Solution\n",
    "Below is the solution for the quiz game:\n",
    "\n",
    "'''"
   ]
  },
  {
   "cell_type": "code",
   "execution_count": 1,
   "metadata": {},
   "outputs": [
    {
     "name": "stdout",
     "output_type": "stream",
     "text": [
      "{'quizzes': [{'quizTitle': 'Country Capitals', 'questions': [{'id': 1, 'question': 'What is the capital of France?', 'choices': {'Paris': True, 'London': False, 'Berlin': False, 'Madrid': False}}, {'id': 2, 'question': 'What is the capital of Japan?', 'choices': {'Beijing': False, 'Seoul': False, 'Tokyo': True, 'Bangkok': False}}, {'id': 3, 'question': 'What is the capital of Canada?', 'choices': {'Toronto': False, 'Vancouver': False, 'Ottawa': True, 'Montreal': False}}]}, {'quizTitle': 'Continents and Countries', 'questions': [{'id': 4, 'question': 'Which continent is Brazil located in?', 'choices': {'Africa': False, 'Asia': False, 'South America': True, 'Europe': False}}, {'id': 5, 'question': 'Which continent is Egypt located in?', 'choices': {'Europe': False, 'Asia': False, 'Africa': True, 'Australia': False}}, {'id': 6, 'question': 'Which continent is Australia located in?', 'choices': {'Asia': False, 'South America': False, 'Australia': True, 'Africa': False}}]}, {'quizTitle': 'Rivers and Mountains', 'questions': [{'id': 7, 'question': 'Which is the longest river in the world?', 'choices': {'Amazon': False, 'Nile': True, 'Yangtze': False, 'Mississippi': False}}, {'id': 8, 'question': 'Which is the highest mountain in the world?', 'choices': {'K2': False, 'Kangchenjunga': False, 'Lhotse': False, 'Mount Everest': True}}, {'id': 9, 'question': 'Which river flows through Paris?', 'choices': {'Thames': False, 'Seine': True, 'Danube': False, 'Rhone': False}}]}]}\n"
     ]
    }
   ],
   "source": [
    "import json\n",
    "\n",
    "with open (\"geo.json\") as file: #open json file\n",
    "    quize_data = json.load(file) #load json file\n",
    "    print(quize_data) #print json file\n",
    "\n"
   ]
  },
  {
   "cell_type": "code",
   "execution_count": null,
   "metadata": {},
   "outputs": [
    {
     "name": "stdout",
     "output_type": "stream",
     "text": [
      "Welcome to the Quizz!\n",
      "Please select a question by entering the question ID.\n",
      "1. What is the capital of France?\n",
      "Paris\n",
      "London\n",
      "Berlin\n",
      "Madrid\n",
      " The answer is correct: Paris\n",
      "5. Which continent is Egypt located in?\n",
      "Europe\n",
      "Asia\n",
      "Africa\n",
      "Australia\n",
      "Incorrect. The correct answer is: Africa\n",
      "Thank you for playing.!\n"
     ]
    }
   ],
   "source": [
    "# Welcome message\n",
    "print(\"Welcome to the Quizz!\")\n",
    "print(\"Please select a question by entering the question ID.\")\n",
    "\n",
    "while True: #loop to continue the game\n",
    "\n",
    "    question_id =  int(input(\"Enter the question id: \")) #input question id\n",
    "    correct_answer = None #initialize correct answer, none means no answer then correct answer is not found. \n",
    "    question_found = False #initialize question found, false means question not found. then it will print question not found.\n",
    "\n",
    "    for quize in quize_data[\"quizzes\"]:  #loop to find question\n",
    "        for question in quize[\"questions\"]: #loop to find question id and question text   \n",
    "            if question[\"id\"] == question_id: #if question id is equal to input question id then print question id and question text\n",
    "               question_found = True #if question found then question found is true and it will print the question\n",
    "               print(f\"{question['id']}. {question['question']}\")  # Print question ID and text on the same line\n",
    "               #print(question['id'],\".\", question['question'])\n",
    "               for choice, is_correct in question[\"choices\"].items(): #loop to find choices and correct answer \n",
    "                print(choice) #print choices\n",
    "                if is_correct: #if correct answer is found then print correct answer\n",
    "                   correct_answer = choice #if correct answer is found then correct answer is equal to choice\n",
    "\n",
    "\n",
    "    if question_found: #if question found then it will ask for answer\n",
    "       user_answer = input(\"Enter your answer: \").lower() #input answer and convert it to lower case\n",
    "       if user_answer == correct_answer.lower(): #if user answer is equal to correct answer then print the answer is correct\n",
    "    \n",
    "          print(\" The answer is correct:\", correct_answer)  # Print the correct answer\n",
    "       else:\n",
    "          print(\"Incorrect. The correct answer is:\", correct_answer) #if user answer is not equal to correct answer then print the answer is incorrect and print the correct answer\n",
    "\n",
    "    else: #if question not found then it will print question not found\n",
    "      print(\"Question not found\")\n",
    "\n",
    "    continue_choice = input(\"Do you want to continue? (yes/no): \") #input to continue the game\n",
    "    if continue_choice != 'yes': #if input is not equal to yes then it will print thank you for playing and break the loop\n",
    "       print(\"Thank you for playing.!\")\n",
    "       break         # Exit the loop"
   ]
  }
 ],
 "metadata": {
  "kernelspec": {
   "display_name": "Python 3",
   "language": "python",
   "name": "python3"
  },
  "language_info": {
   "codemirror_mode": {
    "name": "ipython",
    "version": 3
   },
   "file_extension": ".py",
   "mimetype": "text/x-python",
   "name": "python",
   "nbconvert_exporter": "python",
   "pygments_lexer": "ipython3",
   "version": "3.11.4"
  }
 },
 "nbformat": 4,
 "nbformat_minor": 2
}
